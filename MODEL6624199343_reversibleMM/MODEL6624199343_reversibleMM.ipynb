{
 "cells": [
  {
   "cell_type": "markdown",
   "metadata": {},
   "source": [
    "# In situ kinetic analysis of glyoxalase I and glyoxalase II in Saccharomyces cerevisiae  \n",
    "## (Martins AM et al., 2001)\n",
    "\n",
    "### Abstract\n",
    "The kinetics of glyoxalase I [(R)-S-lactoylglutathione methylglyoxal-lyase; EC 4.4.1.5] and glyoxalase II (S-2-hydroxyacylglutathione hydrolase; EC 3.1.2.6) from Saccharomyces cerevisiae was studied in situ, in digitonin permeabilized cells, using two different approaches: initial rate analysis and progress curves analysis. Initial rate analysis was performed by hyperbolic regression of initial rates using the program hyperfit. Glyoxalase I exhibited saturation kinetics on 0.05–2.5 mm hemithioacetal concentration range, with kinetic parameters Km 0.53 ± 0.07 mm and V (3.18 ± 0.16) × 10−2 mm·min−1. Glyoxalase II also showed saturation kinetics in the Sd-lactoylglutathione concentration range of 0.15–3 mm and Km 0.32 ± 0.13 mm and V (1.03 ± 0.10) × 10−3 mm·min−1 were obtained. The kinetic parameters of both enzymes were also estimated by nonlinear regression of progress curves using the raw absorbance data and integrated differential rate equations with the program gepasi. Several optimization methods were used to minimize the sum of squares of residuals. The best parameter fit for the glyoxalase I reaction was obtained with a single curve analysis, using the irreversible Michaelis–Menten model. The kinetic parameters obtained, Km 0.62 ± 0.18 mm and V (2.86 ± 0.01) × 10−2 mm·min−1, were in agreement with those obtained by initial rate analysis. The results obtained for glyoxalase II, using either the irreversible Michaelis–Menten model or a phenomenological reversible hyperbolic model, showed a high correlation of residuals with time and/or high values of standard deviation associated with Km. The possible causes for the discrepancy between data obtained from initial rate analysis and progress curve analysis, for glyoxalase II, are discussed."
   ]
  },
  {
   "attachments": {
    "febs_2304_f1.gif": {
     "image/gif": "[encoded data removed]"
    }
   },
   "cell_type": "markdown",
   "metadata": {},
   "source": [
    "![febs_2304_f1.gif](attachment:febs_2304_f1.gif)"
   ]
  },
  {
   "cell_type": "markdown",
   "metadata": {},
   "source": [
    "# ⚠️ Here we use a modified version of the model in which:\n",
    "\n",
    "## 👉 The modifiers are removed; \n",
    "\n",
    "## 👉 The species are annotated;\n",
    "\n",
    "## 👉 Reaction vGlxII is removed because of its incompatible format;\n",
    "\n",
    "## 👉 SBO terms were added for each reaction to determine the type of rate law.\n",
    "Note: Since Level 2 Version 2, SBML has incorporated a specific attribute, sboTerm, specifically for the purpose of linking SBO term annotations with model components. The current model was built under Level 2 Version 1.0. We changed this to Level 2 version 2 to include the SBO terms.\n"
   ]
  },
  {
   "attachments": {
    "febs_2304_f1%20-%20Copy.gif": {
     "image/gif": "[encoded data removed]"
    }
   },
   "cell_type": "markdown",
   "metadata": {},
   "source": [
    "# ⚠️ Here would be the modified model:\n",
    "\n",
    "![febs_2304_f1%20-%20Copy.gif](attachment:febs_2304_f1%20-%20Copy.gif)"
   ]
  },
  {
   "cell_type": "code",
   "execution_count": 1,
   "metadata": {
    "code_folding": [
     0
    ]
   },
   "outputs": [
    {
     "name": "stdout",
     "output_type": "stream",
     "text": [
      "The tests rely on tellurium to construct the models\n",
      "Since tellurium is not installed the tests can't be run\n",
      "If you want to run the tests, pip install tellurium first\n"
     ]
    }
   ],
   "source": [
    "## Libraries:\n",
    "\n",
    "# a) Bond graphs\n",
    "import BondGraphTools as bgt\n",
    "\n",
    "# b) Data extraction\n",
    "from pyomexmeta import RDF, eUriType\n",
    "import os\n",
    "import sys\n",
    "import xml.etree.ElementTree as ET\n",
    "import rdflib\n",
    "from lxml import etree\n",
    "import re\n",
    "\n",
    "# c) General\n",
    "import copy\n",
    "import difflib\n",
    "import numpy as np\n",
    "import pandas as pd\n",
    "import math\n",
    "import operator as op\n",
    "import ast\n",
    "import re\n",
    "\n",
    "# d) Plot\n",
    "import matplotlib.pyplot as plt\n",
    "from matplotlib import markers\n",
    "import matplotlib.font_manager as font_manager\n",
    "import matplotlib.colors\n",
    "from pylab import rcParams\n",
    "import matplotlib.image as mpimg\n",
    "\n",
    "# sbml\n",
    "from libsbml import*\n",
    "import simplesbml \n",
    "\n",
    "# Integration and fitting\n",
    "from scipy.optimize import curve_fit, minimize, least_squares, newton_krylov, basinhopping\n",
    "from scipy  import integrate\n",
    "import scipy.stats as stats\n",
    "from symfit import parameters, variables, log, Fit, GreaterThan, Model\n",
    "from symfit.core.minimizers import BasinHopping\n"
   ]
  },
  {
   "cell_type": "code",
   "execution_count": 2,
   "metadata": {},
   "outputs": [],
   "source": [
    "simulations = ['/Users/nsha457/Documents/Jupyter_files/SBML_AnnotMerge/MODEL6624199343_reversibleMM/solutionsReversibleMM.csv']  \n",
    "locations=['/Users/nsha457/Documents/Jupyter_files/SBML_AnnotMerge/MODEL6624199343_reversibleMM/MODEL6624199343.xml']\n"
   ]
  },
  {
   "cell_type": "code",
   "execution_count": 3,
   "metadata": {
    "code_folding": [
     0
    ]
   },
   "outputs": [],
   "source": [
    "def watchdog(idAndAnnotations):\n",
    "    \n",
    "    # Finding identical annotations among the entities (should return Null)\n",
    "    checkSimilarities = True\n",
    "    for i in range(len(idAndAnnotations.keys())):\n",
    "        for j in range(i+1,len(idAndAnnotations.keys())):\n",
    "            if idAndAnnotations[list(idAndAnnotations)[i]] == idAndAnnotations[list(idAndAnnotations)[j]]:\n",
    "                print(\"Pairs with identical annotations in the same model: \",list(idAndAnnotations)[i],list(idAndAnnotations)[j])\n",
    "                print('----------')\n",
    "                print('Change the annotations of the entities/their compartment to be distinctive.')\n",
    "                checkSimilarities = False\n",
    "\n",
    "                img = mpimg.imread('Watchdog.jpg')\n",
    "                imgplot = plt.imshow(img)\n",
    "                plt.show()\n",
    "                \n",
    "    return checkSimilarities"
   ]
  },
  {
   "cell_type": "code",
   "execution_count": 4,
   "metadata": {
    "code_folding": [
     2
    ]
   },
   "outputs": [],
   "source": [
    "# Reading and extracting annotations from the sbml files\n",
    "\n",
    "def annotationExtraction(address,model_lib):\n",
    "\n",
    "    modelURI = SBase.getURI(model_lib) \n",
    "\n",
    "    root=ET.parse(open(address)).getroot()\n",
    "    idAndAnnotations = {}\n",
    "    compartments=[]\n",
    "    for child in root:\n",
    "        for grand in child:\n",
    "            if grand.tag == '{'+str(modelURI)+'}'+'listOfCompartments':\n",
    "                for g in grand:\n",
    "                    for g1 in g:\n",
    "                        for g2 in g1:\n",
    "                            for g3 in g2:\n",
    "                                for g4 in g3:\n",
    "                                    for g5 in g4:\n",
    "                                        for g6 in g5:\n",
    "                                            compartments.append((g.attrib.get('id'),g6.get('{http://www.w3.org/1999/02/22-rdf-syntax-ns#}resource')))\n",
    "\n",
    "\n",
    "\n",
    "            if grand.tag == '{'+str(modelURI)+'}'+'listOfSpecies':\n",
    "                for g in grand: \n",
    "                    idAndAnnotations[g.attrib.get('id')] = []\n",
    "                    for i,j in compartments:\n",
    "                        if g.attrib.get('compartment') == i:\n",
    "                            idAndAnnotations[g.attrib.get('id')].append(j)\n",
    "                    for g1 in g:\n",
    "                        for g2 in g1:\n",
    "                            for g3 in g2:\n",
    "                                for g4 in g3:\n",
    "                                    for g5 in g4:\n",
    "                                        for g6 in g5:\n",
    "                                            idAndAnnotations[g.attrib.get('id')].append(g6.get('{http://www.w3.org/1999/02/22-rdf-syntax-ns#}resource'))\n",
    "  \n",
    "    checkSimilarities = watchdog(idAndAnnotations)\n",
    "    \n",
    "    if checkSimilarities == True:                                    \n",
    "        return[compartments,idAndAnnotations]\n",
    "    else:\n",
    "        return\n"
   ]
  },
  {
   "cell_type": "code",
   "execution_count": 5,
   "metadata": {
    "code_folding": [
     0
    ]
   },
   "outputs": [],
   "source": [
    "def reactionsCategorizing(model_lib,model_simple,compartments,idAndAnnotations):\n",
    "    \n",
    "    reaction_reactants={}; reaction_products={}; Synthesis=[]; Dtype=[]\n",
    "\n",
    "    for reaction in model_simple.getListOfReactionIds():\n",
    "        reaction_reactants[reaction]=[]\n",
    "        reaction_products[reaction]=[]\n",
    "\n",
    "        reactNum=model_simple.getNumReactants(reaction)\n",
    "        prodNum=model_simple.getNumProducts(reaction)\n",
    "\n",
    "        if reactNum is 0:\n",
    "            Synthesis.append(reaction)\n",
    "        if prodNum is 0:\n",
    "            Dtype.append(reaction)\n",
    "\n",
    "\n",
    "        for i in range(reactNum):\n",
    "            for name,identifier in compartments:\n",
    "                if idAndAnnotations[model_simple.getReactant(reaction, i)] ==  [str(identifier)]:  # if a component has no annotation but the one for any of the compartments, don't use its annotation\n",
    "                    reaction_reactants[reaction].append((model_simple.getReactantStoichiometry(reaction, i), \\\n",
    "                                                 model_simple.getReactant(reaction, i)))\n",
    "                    break\n",
    "                else:\n",
    "                    reaction_reactants[reaction].append((model_simple.getReactantStoichiometry(reaction, i), \\\n",
    "                                                         idAndAnnotations[model_simple.getReactant(reaction, i)]))\n",
    "                    break\n",
    "\n",
    "\n",
    "        for ii in range(prodNum):\n",
    "            for name,identifier in compartments:\n",
    "                if idAndAnnotations[model_simple.getProduct(reaction, ii)] ==  [str(identifier)]:  # if a component has no annotation but the one for any of the compartments, don't use its annotation\n",
    "                    reaction_products[reaction].append((model_simple.getProductStoichiometry(reaction, ii), \\\n",
    "                                                 model_simple.getProduct(reaction, ii)))\n",
    "                    break\n",
    "                else:\n",
    "                    reaction_products[reaction].append((model_simple.getProductStoichiometry(reaction, ii), \\\n",
    "                                                         idAndAnnotations[model_simple.getProduct(reaction, ii)]))\n",
    "                    break\n",
    "            \n",
    "\n",
    "\n",
    "    reversibles=[]; irreversibles=[]; \n",
    "    for (reaction,r) in zip(model_simple.getListOfReactionIds(),range(len(model_lib.getListOfReactions()))):\n",
    "\n",
    "        if model_lib.getListOfReactions()[r].getReversible() is True:\n",
    "            reversibles.append(reaction)\n",
    "        elif reaction not in [synth for synth in Synthesis] and reaction not in [d for d in Dtype]:\n",
    "            irreversibles.append(reaction)  \n",
    "\n",
    " \n",
    "    speciesId=[]\n",
    "    for species in model_simple.getListOfAllSpecies():\n",
    "        for reaction in reversibles+irreversibles:\n",
    "            for stoichiometry,reactant in reaction_reactants[reaction]:\n",
    "                if species in [x for x in idAndAnnotations if idAndAnnotations[x]==reactant] and species not in [d for d in speciesId]:\n",
    "                    speciesId.append(species)\n",
    "\n",
    "            for stoichiometry,product in reaction_products[reaction]:\n",
    "                if species in [x for x in idAndAnnotations if idAndAnnotations[x]==product] and species not in [d for d in speciesId]:\n",
    "                    speciesId.append(species)\n",
    "\n",
    "\n",
    "    return [speciesId,reversibles,irreversibles,reaction_reactants,reaction_products,Synthesis,Dtype]"
   ]
  },
  {
   "cell_type": "code",
   "execution_count": 6,
   "metadata": {
    "code_folding": [
     2
    ]
   },
   "outputs": [],
   "source": [
    "# Unifying all the concentrations into micro Mole (uM)\n",
    "\n",
    "def unitConversion(solutions):\n",
    "    print('Enter the unit for concentration in the model (\"pM, nM, uM, mM, M\"): ')\n",
    "    print('***Units will be all converted to uM. Enter \"n\" to keep the original unit***')\n",
    "    unit=str(input())\n",
    "    \n",
    "    print('Enter a normalisation factor for concentration (\"enter 1 if you wish no normalisation\"): ')\n",
    "    normalisationFactor = float(input())\n",
    "    \n",
    "    if unit == \"M\" or unit == \"m\":\n",
    "        unit = \"M\"\n",
    "        for column in solutions:\n",
    "            if column != 'Time' and column != 'compartment':\n",
    "                solutions[column]=solutions[column].apply(lambda x: x*1e6*normalisationFactor)\n",
    "    if unit == \"mM\" or unit == \"mm\":\n",
    "        unit = \"mM\"\n",
    "        for column in solutions:\n",
    "            if column != 'Time' and column != 'compartment':\n",
    "                solutions[column]=solutions[column].apply(lambda x: x*1e3*normalisationFactor)\n",
    "    if unit == \"uM\" or unit == \"um\":\n",
    "        unit = \"uM\"\n",
    "        for column in solutions:\n",
    "            if column != 'Time' and column != 'compartment':\n",
    "                solutions[column]=solutions[column].apply(lambda x: x*normalisationFactor)\n",
    "    if unit == \"nM\" or unit == \"nm\":\n",
    "        unit = \"nM\"\n",
    "        for column in solutions:\n",
    "            if column != 'Time' and column != 'compartment':\n",
    "                solutions[column]=solutions[column].apply(lambda x: x*1e-3*normalisationFactor)\n",
    "    if unit == \"pM\" or unit == \"pm\":\n",
    "        unit = \"pM\"\n",
    "        for column in solutions:\n",
    "            if column != 'Time' and column != 'compartment':\n",
    "                solutions[column]=solutions[column].apply(lambda x: x*1e-6*normalisationFactor)\n",
    "                \n",
    "    if unit=='uM' or unit=='n':\n",
    "        print('No unit conversion was required for this model and normalised by a factor of ',normalisationFactor)\n",
    "    else:\n",
    "        print('Units converted from ',unit,' to uM and normalised by a factor of ',normalisationFactor)\n",
    "        \n",
    "    print('\\n \\n')\n",
    "        \n",
    "    return solutions\n",
    "        "
   ]
  },
  {
   "cell_type": "code",
   "execution_count": 7,
   "metadata": {},
   "outputs": [
    {
     "name": "stdout",
     "output_type": "stream",
     "text": [
      "Enter the unit for concentration in the model (\"pM, nM, uM, mM, M\"): \n",
      "***Units will be all converted to uM. Enter \"n\" to keep the original unit***\n",
      "n\n",
      "Enter a normalisation factor for concentration (\"enter 1 if you wish no normalisation\"): \n",
      "1\n",
      "No unit conversion was required for this model and normalised by a factor of  1.0\n",
      "\n",
      " \n",
      "\n"
     ]
    }
   ],
   "source": [
    "listOfComponents={}; listOfConnections={}; idAndAnnotationsAll={}; solutionsAll={};\n",
    "i=0\n",
    "for address,simulation in zip(locations,simulations):\n",
    "\n",
    "    reader = SBMLReader()\n",
    "    document = reader.readSBML(address)\n",
    "    error = document.getNumErrors()\n",
    "\n",
    "    if error:            \n",
    "        print(\"Error found in \",address)\n",
    "        break\n",
    "\n",
    "    else:          \n",
    "        model_lib = document.getModel()\n",
    "        model_simple = simplesbml.loadSBMLFile(address)\n",
    "        unifiedSolution = unitConversion(pd.read_csv(simulation))\n",
    "\n",
    "        [compartments,idAndAnnotations] = annotationExtraction(address,model_lib)\n",
    "\n",
    "        [speciesId,reversibles,irreversibles,reaction_reactants,reaction_products,Synthesis,Dtype] = reactionsCategorizing(model_lib,model_simple,compartments,idAndAnnotations)            \n",
    "\n"
   ]
  },
  {
   "cell_type": "code",
   "execution_count": 8,
   "metadata": {},
   "outputs": [
    {
     "data": {
      "text/plain": [
       "[('compartment', 'http://identifiers.org/go/GO:0005622')]"
      ]
     },
     "execution_count": 8,
     "metadata": {},
     "output_type": "execute_result"
    }
   ],
   "source": [
    "compartments"
   ]
  },
  {
   "cell_type": "code",
   "execution_count": 9,
   "metadata": {},
   "outputs": [
    {
     "data": {
      "text/plain": [
       "['GSH', 'HTA', 'SLG', 'MG']"
      ]
     },
     "execution_count": 9,
     "metadata": {},
     "output_type": "execute_result"
    }
   ],
   "source": [
    "speciesId"
   ]
  },
  {
   "cell_type": "code",
   "execution_count": 10,
   "metadata": {},
   "outputs": [
    {
     "data": {
      "text/plain": [
       "{'GSH': ['http://identifiers.org/go/GO:0005622',\n",
       "  'http://identifiers.org/chebi/CHEBI:16856'],\n",
       " 'HTA': ['http://identifiers.org/go/GO:0005622',\n",
       "  'http://identifiers.org/chebi/CHEBI:131710'],\n",
       " 'SLG': ['http://identifiers.org/go/GO:0005622',\n",
       "  'http://identifiers.org/chebi/CHEBI:15694'],\n",
       " 'Lac': ['http://identifiers.org/go/GO:0005622',\n",
       "  'http://identifiers.org/chebi/CHEBI:16004'],\n",
       " 'MG': ['http://identifiers.org/go/GO:0005622',\n",
       "  'http://identifiers.org/chebi/CHEBI:17158']}"
      ]
     },
     "execution_count": 10,
     "metadata": {},
     "output_type": "execute_result"
    }
   ],
   "source": [
    "idAndAnnotations"
   ]
  },
  {
   "cell_type": "code",
   "execution_count": 11,
   "metadata": {},
   "outputs": [
    {
     "data": {
      "text/plain": [
       "['vneHTA', 'vGlxI']"
      ]
     },
     "execution_count": 11,
     "metadata": {},
     "output_type": "execute_result"
    }
   ],
   "source": [
    "reversibles"
   ]
  },
  {
   "cell_type": "code",
   "execution_count": 12,
   "metadata": {},
   "outputs": [
    {
     "data": {
      "text/plain": [
       "[]"
      ]
     },
     "execution_count": 12,
     "metadata": {},
     "output_type": "execute_result"
    }
   ],
   "source": [
    "irreversibles"
   ]
  },
  {
   "cell_type": "code",
   "execution_count": 13,
   "metadata": {},
   "outputs": [
    {
     "data": {
      "text/plain": [
       "{'vneHTA': [(1.0,\n",
       "   ['http://identifiers.org/go/GO:0005622',\n",
       "    'http://identifiers.org/chebi/CHEBI:17158']),\n",
       "  (1.0,\n",
       "   ['http://identifiers.org/go/GO:0005622',\n",
       "    'http://identifiers.org/chebi/CHEBI:16856'])],\n",
       " 'vGlxI': [(1.0,\n",
       "   ['http://identifiers.org/go/GO:0005622',\n",
       "    'http://identifiers.org/chebi/CHEBI:131710'])]}"
      ]
     },
     "execution_count": 13,
     "metadata": {},
     "output_type": "execute_result"
    }
   ],
   "source": [
    "reaction_reactants"
   ]
  },
  {
   "cell_type": "code",
   "execution_count": 14,
   "metadata": {},
   "outputs": [
    {
     "data": {
      "text/plain": [
       "{'vneHTA': [(1.0,\n",
       "   ['http://identifiers.org/go/GO:0005622',\n",
       "    'http://identifiers.org/chebi/CHEBI:131710'])],\n",
       " 'vGlxI': [(1.0,\n",
       "   ['http://identifiers.org/go/GO:0005622',\n",
       "    'http://identifiers.org/chebi/CHEBI:15694'])]}"
      ]
     },
     "execution_count": 14,
     "metadata": {},
     "output_type": "execute_result"
    }
   ],
   "source": [
    "reaction_products"
   ]
  },
  {
   "cell_type": "code",
   "execution_count": 15,
   "metadata": {},
   "outputs": [
    {
     "data": {
      "text/plain": [
       "<Reaction vneHTA>"
      ]
     },
     "execution_count": 15,
     "metadata": {},
     "output_type": "execute_result"
    }
   ],
   "source": [
    "model_lib.getListOfReactions()[0]"
   ]
  },
  {
   "cell_type": "code",
   "execution_count": 44,
   "metadata": {
    "code_folding": [
     109
    ]
   },
   "outputs": [],
   "source": [
    "def allReversible(model_lib,model_simple,speciesId,reversibles,reaction_reactants,reaction_products,solutions,idAndAnnotations):\n",
    "    \n",
    "    reversibleMA = []\n",
    "    reversibleMM = []\n",
    "    Kp_to_Kr = []\n",
    "    for (reaction,r) in zip(model_simple.getListOfReactionIds(),range(len(model_lib.getListOfReactions()))):\n",
    "        \n",
    "        if SBase.getSBOTermID(model_lib.getListOfReactions()[r]) == 'SBO:0000079':\n",
    "#             print(reaction,SBase.getSBOTermID(model_lib.getListOfReactions()[r]))\n",
    "            reversibleMA.append(reaction)\n",
    "\n",
    "            phi_Xr_1 = 1\n",
    "            phi_Xp_1 = 1\n",
    "            phi_Xr_e = 1\n",
    "            phi_Xp_e = 1\n",
    "\n",
    "            for stoichiometry,reactant in reaction_reactants[reaction]:\n",
    "\n",
    "                phi_Xr_1 = phi_Xr_1 * solutions[[x for x in idAndAnnotations if idAndAnnotations[x]==reactant][0]][1]\n",
    "                phi_Xr_e = phi_Xr_e * solutions[[x for x in idAndAnnotations if idAndAnnotations[x]==reactant][0]][len(solutions[[x for x in idAndAnnotations if idAndAnnotations[x]==reactant][0]])-1]\n",
    "\n",
    "            for stoichiometry,product in reaction_products[reaction]:        \n",
    "                phi_Xp_1 = phi_Xp_1 * solutions[[x for x in idAndAnnotations if idAndAnnotations[x]==product][0]][1]\n",
    "                phi_Xp_e = phi_Xp_e * solutions[[x for x in idAndAnnotations if idAndAnnotations[x]==product][0]][len(solutions[[x for x in idAndAnnotations if idAndAnnotations[x]==product][0]])-1]\n",
    "\n",
    "            # compartment for a reactant/species in the reaction\n",
    "            compartmentId1 = model_simple.getCompartmentIdSpeciesIsIn([x for x in idAndAnnotations if idAndAnnotations[x]==reactant][0])\n",
    "            compartmentId2 = model_simple.getCompartmentIdSpeciesIsIn([x for x in idAndAnnotations if idAndAnnotations[x]==product][0])\n",
    "            compartmentVolume1 = model_simple.getCompartmentVolume(compartmentId1)\n",
    "            compartmentVolume2 = model_simple.getCompartmentVolume(compartmentId2)\n",
    "\n",
    "            sigma = solutions[reaction][len(solutions[reaction])-1] / solutions[reaction][1]\n",
    "            Kp_to_Kr.append((compartmentVolume1*(sigma*phi_Xr_1 - phi_Xr_e))/(compartmentVolume2*(sigma*phi_Xp_1 - phi_Xp_e)))\n",
    "\n",
    "        \n",
    "        \n",
    "        if SBase.getSBOTermID(model_lib.getListOfReactions()[r]) == 'SBO:0000438':\n",
    "#             print(reaction,SBase.getSBOTermID(model_lib.getListOfReactions()[r]))\n",
    "            reversibleMM.append(reaction)\n",
    "\n",
    "            reactantsSpecies=[]\n",
    "            productsSpecies=[]\n",
    "\n",
    "\n",
    "            solve=tuple()\n",
    "\n",
    "            for stoichiometry,reactant in reaction_reactants[reaction]:\n",
    "                reactantsSpecies.append(reactant)        \n",
    "                solve=solve+(pow(unifiedSolution[[x for x in idAndAnnotations if idAndAnnotations[x]==reactant][0]],stoichiometry),)\n",
    "\n",
    "\n",
    "            for stoichiometry,product in reaction_products[reaction]:\n",
    "                productsSpecies.append(product)        \n",
    "                solve=solve+(pow(unifiedSolution[[x for x in idAndAnnotations if idAndAnnotations[x]==product][0]],stoichiometry),)\n",
    "\n",
    "\n",
    "\n",
    "            # compartment for a reactant/species in the reaction\n",
    "            compartmentId1 = model_simple.getCompartmentIdSpeciesIsIn([x for x in idAndAnnotations if idAndAnnotations[x]==reactant][0])\n",
    "            compartmentId2 = model_simple.getCompartmentIdSpeciesIsIn([x for x in idAndAnnotations if idAndAnnotations[x]==product][0])\n",
    "            compartmentVolume1 = model_simple.getCompartmentVolume(compartmentId1)\n",
    "            compartmentVolume2 = model_simple.getCompartmentVolume(compartmentId2)\n",
    "\n",
    "\n",
    "            def func(X,param1,param2,param3,param4,param5):\n",
    "\n",
    "                reactants = np.ones((len(unifiedSolution['Time'])))\n",
    "                products= np.ones((len(unifiedSolution['Time'])))\n",
    "\n",
    "\n",
    "                for x in range(0,len(reactantsSpecies)):\n",
    "                    reactants = reactants * X[x]            \n",
    "\n",
    "                for x in range(len(reactantsSpecies),len(reactantsSpecies)+len(productsSpecies)):\n",
    "                    products = products * X[x]\n",
    "\n",
    "\n",
    "                v = ((param1*reactants)-(param2*products))/(param3+(param4*reactants)+(param5*products))\n",
    "\n",
    "                return v\n",
    "\n",
    "\n",
    "            bounds=[[0,0,0,0,0],[np.inf,np.inf,np.inf,np.inf,np.inf]]\n",
    "            popt, pcov = curve_fit(func,solve,unifiedSolution[reaction], maxfev=300000, bounds=bounds)\n",
    "            \n",
    "            for i in range(len(popt)):\n",
    "                Kp_to_Kr.append(popt[i])\n",
    "\n",
    "\n",
    "    trueValues = copy.deepcopy(Kp_to_Kr) \n",
    "\n",
    "    rowM=[]\n",
    "    for s in speciesId:\n",
    "         rowM.append([x for x in idAndAnnotations.values() if idAndAnnotations[s]==x][0])\n",
    "    \n",
    "    for reaction in reversibleMM:\n",
    "        rowM = rowM + [reaction+'_r1']\n",
    "        rowM = rowM + [reaction+'_r2']\n",
    "        rowM = rowM + [reaction+'_E']\n",
    "        rowM = rowM + [reaction+'_ES']\n",
    "        rowM = rowM + [reaction+'_E0']\n",
    "\n",
    "    # M initial (regarding the steady-state ratios obtained in the previous stage)\n",
    "\n",
    "    M = np.zeros([len(trueValues),len(rowM)]) \n",
    "\n",
    "\n",
    "    \n",
    "\n",
    "    for i,reaction in zip(range(len(reversibleMA)),reversibleMA):\n",
    "        \n",
    "        for stoichiometry,reactant in reaction_reactants[reaction]:\n",
    "            for row in range(len(rowM)):     \n",
    "                if rowM[row] == reactant:  \n",
    "                    M[i][row] = -stoichiometry\n",
    "\n",
    "\n",
    "\n",
    "        for stoichiometry,product in reaction_products[reaction]:\n",
    "            for row in range(len(rowM)):     \n",
    "                if rowM[row] == product:                    \n",
    "                    M[i][row] = stoichiometry\n",
    "                    \n",
    "    lastline = copy.deepcopy(i+1)\n",
    "    \n",
    "    for i,reaction in zip(range(lastline,lastline+5*len(reversibleMM),5),reversibleMM):\n",
    "        \n",
    "        # Each MM reaction in BG has 5 parameters \n",
    "        for row in range(len(rowM)):\n",
    "            if rowM[row] == reaction+'_r1' or rowM[row] == reaction+'_r2' or rowM[row] == reaction+'_E' \\\n",
    "            or rowM[row] == reaction+'_E0': \n",
    "                M[i][row] = 1\n",
    "            for stoichiometry,reactant in reaction_reactants[reaction]:\n",
    "                if rowM[row] == reactant:\n",
    "                    M[i][row] = stoichiometry\n",
    "                    \n",
    "                \n",
    "            if rowM[row] == reaction+'_r1' or rowM[row] == reaction+'_r2' or rowM[row] == reaction+'_E' \\\n",
    "            or rowM[row] == reaction+'_E0' : \n",
    "                M[i+1][row] = 1\n",
    "            for stoichiometry,product in reaction_products[reaction]:\n",
    "                if rowM[row] == product:\n",
    "                    M[i+1][row] = stoichiometry\n",
    "                    \n",
    "                    \n",
    "            if rowM[row] == reaction+'_r1' or rowM[row] == reaction+'_r2': \n",
    "                M[i+2][row] = 1\n",
    "                \n",
    "                \n",
    "            if rowM[row] == reaction+'_r1' or rowM[row] == reaction+'_E': \n",
    "                M[i+3][row] = 1\n",
    "            if rowM[row] == reaction+'_ES': \n",
    "                M[i+3][row] = -1\n",
    "            for stoichiometry,reactant in reaction_reactants[reaction]:\n",
    "                if rowM[row] == reactant:\n",
    "                    M[i+3][row] = stoichiometry\n",
    "                    \n",
    "                    \n",
    "            if rowM[row] == reaction+'_r2' or rowM[row] == reaction+'_E': \n",
    "                M[i+4][row] = 1\n",
    "            if rowM[row] == reaction+'_ES': \n",
    "                M[i+4][row] = -1\n",
    "            for stoichiometry,product in reaction_products[reaction]:\n",
    "                if rowM[row] == product:\n",
    "                    M[i+4][row] = stoichiometry\n",
    "                    \n",
    "            \n",
    "            \n",
    "\n",
    "             \n",
    "\n",
    "\n",
    "    logTrueValues = [];\n",
    "\n",
    "    for k in trueValues:\n",
    "        logTrueValues.append(math.log(k))\n",
    "\n",
    "    logTrueValues = np.array(logTrueValues)\n",
    "\n",
    "\n",
    "    Mpinv = np.linalg.pinv(np.array(M))\n",
    "    logU = Mpinv.dot(logTrueValues)\n",
    "\n",
    "    thermodynamics = [math.exp(i) for i in list(logU)]\n",
    "    \n",
    "    for i,j in zip(rowM,thermodynamics):\n",
    "        print(i,' : ',j)\n",
    "        \n",
    "\n",
    "  \n",
    "    \n",
    "    \n",
    "    return [rowM,thermodynamics,reversibleMA,reversibleMM]"
   ]
  },
  {
   "cell_type": "code",
   "execution_count": 45,
   "metadata": {},
   "outputs": [
    {
     "name": "stdout",
     "output_type": "stream",
     "text": [
      "['http://identifiers.org/go/GO:0005622', 'http://identifiers.org/chebi/CHEBI:16856']  :  2.9602574169533145\n",
      "['http://identifiers.org/go/GO:0005622', 'http://identifiers.org/chebi/CHEBI:131710']  :  26.03163298345209\n",
      "['http://identifiers.org/go/GO:0005622', 'http://identifiers.org/chebi/CHEBI:15694']  :  0.007441665833185781\n",
      "['http://identifiers.org/go/GO:0005622', 'http://identifiers.org/chebi/CHEBI:17158']  :  2.960257416953305\n",
      "vGlxI_r1  :  1.2650668776735976\n",
      "vGlxI_r2  :  8020.010108426601\n",
      "vGlxI_E  :  0.5734572591958539\n",
      "vGlxI_ES  :  0.0067334717994458095\n",
      "vGlxI_E0  :  0.0038613582829827887\n"
     ]
    }
   ],
   "source": [
    "[rowM,thermodynamics,reversibleMA,reversibleMM]=allReversible(model_lib,model_simple,speciesId,reversibles,reaction_reactants,reaction_products,unifiedSolution,idAndAnnotations)"
   ]
  },
  {
   "cell_type": "code",
   "execution_count": 46,
   "metadata": {
    "code_folding": [
     0
    ]
   },
   "outputs": [],
   "source": [
    "# Finding the reaction rate constants (reversible MA reactions)\n",
    "\n",
    "reactionRates = {}\n",
    "for reaction in  reversibleMA:\n",
    "\n",
    "    reactantsSpecies=[]\n",
    "    productsSpecies=[]\n",
    "\n",
    "    K_reactants = 1\n",
    "    K_products = 1\n",
    "\n",
    "    solve=tuple()\n",
    "\n",
    "    for stoichiometry,reactant in reaction_reactants[reaction]:\n",
    "        reactantsSpecies.append(reactant)        \n",
    "        solve=solve+(pow(unifiedSolution[[x for x in idAndAnnotations if idAndAnnotations[x]==reactant][0]],stoichiometry),)\n",
    "\n",
    "        for i in range(len(rowM)):\n",
    "            if rowM[i] == reactant:\n",
    "                K_reactants = K_reactants * pow(thermodynamics[i],stoichiometry)   \n",
    "\n",
    "\n",
    "    for stoichiometry,product in reaction_products[reaction]:\n",
    "        productsSpecies.append(product)        \n",
    "        solve=solve+(pow(unifiedSolution[[x for x in idAndAnnotations if idAndAnnotations[x]==product][0]],stoichiometry),)\n",
    "\n",
    "        for i in range(len(rowM)):\n",
    "            if rowM[i] == product:\n",
    "                K_products = K_products * pow(thermodynamics[i],stoichiometry)\n",
    "\n",
    "    # compartment for a reactant/species in the reaction\n",
    "    compartmentId1 = model_simple.getCompartmentIdSpeciesIsIn([x for x in idAndAnnotations if idAndAnnotations[x]==reactant][0])\n",
    "    compartmentId2 = model_simple.getCompartmentIdSpeciesIsIn([x for x in idAndAnnotations if idAndAnnotations[x]==product][0])\n",
    "    compartmentVolume1 = model_simple.getCompartmentVolume(compartmentId1)\n",
    "    compartmentVolume2 = model_simple.getCompartmentVolume(compartmentId2)\n",
    "\n",
    "\n",
    "    def func(X, r):\n",
    "\n",
    "\n",
    "        reactants = np.ones((len(unifiedSolution['Time'])))\n",
    "        products= np.ones((len(unifiedSolution['Time'])))\n",
    "\n",
    "\n",
    "        for x in range(0,len(reactantsSpecies)):\n",
    "            reactants = reactants * X[x]            \n",
    "\n",
    "        for x in range(len(reactantsSpecies),len(reactantsSpecies)+len(productsSpecies)):\n",
    "            products = products * X[x]\n",
    "\n",
    "\n",
    "        v = r*(compartmentVolume1*K_reactants*reactants- compartmentVolume2*K_products*products)\n",
    "\n",
    "\n",
    "        return v\n",
    "\n",
    "    bounds=[[0],[np.inf]]\n",
    "    popt, pcov = curve_fit(func,solve,unifiedSolution[reaction], maxfev=300000, bounds=bounds)\n",
    "    if popt[0]==1: \n",
    "        popt, pcov = curve_fit(func,solve,unifiedSolution[reaction], maxfev=300000, method='lm')\n",
    "\n",
    "    reactionRates[reaction]=popt[0]\n",
    "\n",
    "\n"
   ]
  },
  {
   "cell_type": "code",
   "execution_count": 47,
   "metadata": {},
   "outputs": [
    {
     "data": {
      "text/plain": [
       "{'vneHTA': 0.03879894904197863}"
      ]
     },
     "execution_count": 47,
     "metadata": {},
     "output_type": "execute_result"
    }
   ],
   "source": [
    "reactionRates"
   ]
  },
  {
   "cell_type": "code",
   "execution_count": 48,
   "metadata": {},
   "outputs": [],
   "source": [
    "param1 = thermodynamics[8]*thermodynamics[4]*thermodynamics[5]*thermodynamics[6]*thermodynamics[1]\n",
    "param2 = thermodynamics[8]*thermodynamics[4]*thermodynamics[5]*thermodynamics[6]*thermodynamics[2]\n",
    "param3 = thermodynamics[4]+thermodynamics[5]\n",
    "param4 = thermodynamics[4]*thermodynamics[6]*thermodynamics[1]/thermodynamics[7]\n",
    "param5 = thermodynamics[5]*thermodynamics[6]*thermodynamics[2]/thermodynamics[7]"
   ]
  },
  {
   "cell_type": "code",
   "execution_count": 49,
   "metadata": {},
   "outputs": [
    {
     "data": {
      "text/plain": [
       "[<matplotlib.lines.Line2D at 0x130adb1d1d0>]"
      ]
     },
     "execution_count": 49,
     "metadata": {},
     "output_type": "execute_result"
    },
    {
     "data": {
      "image/png": "[encoded data removed]",
      "text/plain": [
       "<Figure size 432x288 with 1 Axes>"
      ]
     },
     "metadata": {
      "needs_background": "light"
     },
     "output_type": "display_data"
    }
   ],
   "source": [
    "v_approx = ((param1*unifiedSolution['HTA'])-(param2*unifiedSolution['SLG']))/(param3+(param4*unifiedSolution['HTA'])+(param5*unifiedSolution['SLG']))\n",
    "plt.plot(unifiedSolution['Time'],v_approx,'k--')\n",
    "plt.plot(unifiedSolution['Time'],unifiedSolution['vGlxI'])"
   ]
  },
  {
   "cell_type": "code",
   "execution_count": 50,
   "metadata": {},
   "outputs": [
    {
     "data": {
      "text/plain": [
       "[<matplotlib.lines.Line2D at 0x130ac090710>]"
      ]
     },
     "execution_count": 50,
     "metadata": {},
     "output_type": "execute_result"
    },
    {
     "data": {
      "image/png": "[encoded data removed]",
      "text/plain": [
       "<Figure size 432x288 with 1 Axes>"
      ]
     },
     "metadata": {
      "needs_background": "light"
     },
     "output_type": "display_data"
    }
   ],
   "source": [
    "v_approx = reactionRates['vneHTA']*(thermodynamics[3]*thermodynamics[0]*unifiedSolution['MG']*unifiedSolution['GSH']- thermodynamics[1]*unifiedSolution['HTA'])\n",
    "plt.plot(unifiedSolution['Time'],v_approx,'k--')\n",
    "plt.plot(unifiedSolution['Time'],unifiedSolution['vneHTA'])"
   ]
  },
  {
   "cell_type": "code",
   "execution_count": 78,
   "metadata": {},
   "outputs": [
    {
     "data": {
      "text/plain": [
       "['vGlxI']"
      ]
     },
     "execution_count": 78,
     "metadata": {},
     "output_type": "execute_result"
    }
   ],
   "source": [
    "reversibleMM"
   ]
  },
  {
   "cell_type": "code",
   "execution_count": 84,
   "metadata": {},
   "outputs": [
    {
     "data": {
      "text/plain": [
       "[R: vneHTA, R: vGlxI_r1, R: vGlxI_r2]"
      ]
     },
     "execution_count": 84,
     "metadata": {},
     "output_type": "execute_result"
    }
   ],
   "source": [
    "BGreactions"
   ]
  },
  {
   "cell_type": "code",
   "execution_count": 129,
   "metadata": {
    "code_folding": [
     0
    ]
   },
   "outputs": [],
   "source": [
    "def BGconstruction(compartments,idAndAnnotations,reversibles,irreversibles,reversibleMA,reversibleMM,reaction_reactants,reaction_products,speciesId,solutions,reactionRates,thermodynamics,rowM,Synthesis,Dtype):\n",
    "    \n",
    "    idealGassConstant=8.314\n",
    "    T= 310\n",
    "    \n",
    "    BGspecies=[]; BGzeroJunc=[]; BGreactions=[]; oneJunc_reac=[]; oneJunc_prod=[]; TF=[];\n",
    "\n",
    "    for reaction in reversibleMA: \n",
    "\n",
    "        BGreactions.append(bgt.new(\"Re\", name=reaction, library=\"BioChem\", value={'R':idealGassConstant, 'T':T}))\n",
    "\n",
    "        oneJunc_reac.append(bgt.new(\"1\", name='oneReac '+reaction)) \n",
    "        oneJunc_prod.append(bgt.new(\"1\", name='oneProd '+reaction))\n",
    "\n",
    "\n",
    "        for stoichiometry,reactant in reaction_reactants[reaction]:\n",
    "            if stoichiometry != 1:\n",
    "                TF.append(bgt.new('TF', name='oneReac '+reaction+' '+str(reactant), value=stoichiometry))\n",
    "\n",
    "        for stoichiometry,product in reaction_products[reaction]:\n",
    "            if stoichiometry != 1:\n",
    "                TF.append(bgt.new('TF', name='oneProd '+reaction+' '+str(product), value=1/stoichiometry))\n",
    "\n",
    "#         if reaction in irreversibleMA:\n",
    "#             BGspecies.append(bgt.new(\"Ce_S\", name=reaction+' X', library=\"BioChem\", value={'R':idealGassConstant, 'T':T}))\n",
    "#             BGzeroJunc.append(bgt.new(\"0\", name=reaction+' X'))  \n",
    "            \n",
    "\n",
    "    for reaction in reversibleMM:\n",
    "        \n",
    "        BGreactions.append(bgt.new(\"Re\", name=reaction+'_r1', library=\"BioChem\", value={'R':idealGassConstant, 'T':T}))\n",
    "        BGreactions.append(bgt.new(\"Re\", name=reaction+'_r2', library=\"BioChem\", value={'R':idealGassConstant, 'T':T}))\n",
    "        \n",
    "        oneJunc_reac.append(bgt.new(\"1\", name='oneReac '+reaction+'_r1')) \n",
    "        oneJunc_prod.append(bgt.new(\"1\", name='oneProd '+reaction+'_r1'))\n",
    "        oneJunc_reac.append(bgt.new(\"1\", name='oneReac '+reaction+'_r2')) \n",
    "        oneJunc_prod.append(bgt.new(\"1\", name='oneProd '+reaction+'_r2'))\n",
    "        \n",
    "        # For now, no stoichiometry for species in Michaelis-Menten!\n",
    "        \n",
    "        \n",
    "        BGspecies.append(bgt.new(\"Ce\", name=reaction+'_E', library=\"BioChem\", value={'R':idealGassConstant, 'T':T}))\n",
    "        BGzeroJunc.append(bgt.new(\"0\", name=reaction+'_E')) \n",
    "        BGspecies.append(bgt.new(\"Ce\", name=reaction+'_ES', library=\"BioChem\", value={'R':idealGassConstant, 'T':T}))\n",
    "        BGzeroJunc.append(bgt.new(\"0\", name=reaction+'_ES')) \n",
    "        \n",
    "\n",
    "\n",
    "    for species in speciesId:\n",
    "        \n",
    "        for name,identifier in compartments:\n",
    "            if idAndAnnotations[species] ==  [str(identifier)]:  # if a component has no annotation but the one for any of the compartments, don't use its annotation\n",
    "                speciesAnnotated = copy.deepcopy(species)\n",
    "                break\n",
    "            else:\n",
    "                speciesAnnotated = copy.deepcopy(idAndAnnotations[species])\n",
    "\n",
    "        diff = solutions[species].diff() \n",
    "        diff.fillna(method='bfill', inplace=True)\n",
    "        \n",
    "        if diff.all() != 0:\n",
    "            BGspecies.append(bgt.new(\"Ce\", name=speciesAnnotated, library=\"BioChem\", value={'R':idealGassConstant, 'T':T}))\n",
    "            BGzeroJunc.append(bgt.new(\"0\", name=speciesAnnotated)) \n",
    "            \n",
    "        elif diff.all() == 0:\n",
    "            BGspecies.append(bgt.new(\"Ce_S\", name=speciesAnnotated, library=\"BioChem\", value={'R':idealGassConstant, 'T':T}))\n",
    "            BGzeroJunc.append(bgt.new(\"0\", name=speciesAnnotated)) \n",
    "            \n",
    "\n",
    "\n",
    "            \n",
    "    # Setting the values in BGs\n",
    "\n",
    "    for BGreaction in BGreactions: # works for reversible and irreversible MAs\n",
    "        if BGreaction.name in [key for key in reactionRates]:\n",
    "            bgt.set_param(BGreaction,'r',reactionRates[BGreaction.name])\n",
    "    \n",
    "    for r in range(len(rowM)):\n",
    "        for BGreaction in BGreactions: # works for reversible and irreversible MMs\n",
    "            if rowM[r] == BGreaction.name:\n",
    "                bgt.set_param(BGreaction,'r',thermodynamics[r])\n",
    "\n",
    "\n",
    "    for bg in BGspecies:  \n",
    "        for i in range(len(rowM)):\n",
    "            for name,identifier in compartments:\n",
    "                if rowM[i] ==  [str(identifier)]:\n",
    "                    if bg.name == rowM[i]:\n",
    "                        bgt.set_param(bg,'k',thermodynamics[i])     \n",
    "\n",
    "                    break\n",
    "                elif bg.name ==  rowM[i]:\n",
    "                    bgt.set_param(bg,'k',thermodynamics[i]) \n",
    "\n",
    "\n",
    "    for reaction in irreversibles:\n",
    "        for bg in BGspecies: \n",
    "            if bg.name == reaction+' X':\n",
    "                for i in range(len(rowM)):\n",
    "                    if rowM[i] == reaction+' X':\n",
    "                        bgt.set_param(bg,'k',thermodynamics[i])\n",
    "    \n",
    "    \n",
    "            \n",
    "# connections\n",
    "    connections = []\n",
    "\n",
    "    for z in BGzeroJunc:\n",
    "        for s in BGspecies:\n",
    "            if (z.name) == (s.name):\n",
    "                connections.append([z,s])\n",
    "\n",
    "\n",
    "    for r in BGreactions:\n",
    "        for oneR,oneP in zip(oneJunc_reac,oneJunc_prod):    \n",
    "            if 'oneReac '+r.name == oneR.name:\n",
    "                connections.append([oneR,r])\n",
    "\n",
    "            if 'oneProd '+r.name == oneP.name:\n",
    "                connections.append([r,oneP])\n",
    "\n",
    "\n",
    "\n",
    "    for reaction in reversibleMA :  # later we can add \"irreversibleMA\". need to categorize irreversibles too\n",
    "        for oneR in oneJunc_reac:\n",
    "            for xR in oneR.name.split(sep=\" \"):\n",
    "                if (reaction) == (xR):\n",
    "\n",
    "                    for z in BGzeroJunc:\n",
    "                        for stoichiometry,reactant in reaction_reactants[reaction]:\n",
    "                            if  z.name == reactant:\n",
    "                                if stoichiometry!=1:\n",
    "                                    for TFcomp in TF:\n",
    "                                        if TFcomp.name == 'oneReac '+reaction+' '+str(reactant):\n",
    "                                            connections.append([z,(TFcomp,0)])\n",
    "                                            connections.append([(TFcomp,1),oneR])\n",
    "                                else:\n",
    "                                    connections.append([z,oneR])\n",
    "\n",
    "\n",
    "        for oneP in oneJunc_prod:\n",
    "            for xP in oneP.name.split(sep=\" \"):\n",
    "                if (reaction) == (xP):\n",
    "\n",
    "                    for z in BGzeroJunc:\n",
    "                        for stoichiometry,product in reaction_products[reaction]:\n",
    "                            if z.name == product:\n",
    "                                if stoichiometry!=1:\n",
    "                                    for TFcomp in TF:\n",
    "                                        if TFcomp.name == 'oneProd '+reaction+' '+str(product):\n",
    "                                            connections.append([oneP,(TFcomp,0)])\n",
    "                                            connections.append([(TFcomp,1),z])\n",
    "                                else:\n",
    "                                    connections.append([oneP,z])\n",
    "\n",
    "#   if reaction in irreversibleMA:\n",
    "                                \n",
    "                                \n",
    "                                \n",
    "    for reaction in reversibleMM :  # later we can add \"irreversibleMM\". need to categorize irreversibles too\n",
    "        for oneR in oneJunc_reac:\n",
    "            for xR in oneR.name.split(sep=\" \"):\n",
    "                if (reaction+'_r1') == (xR):\n",
    "                    \n",
    "                    for z in BGzeroJunc:\n",
    "                        for stoichiometry,reactant in reaction_reactants[reaction]:\n",
    "                            if  z.name == reactant:\n",
    "                                if stoichiometry!=1:\n",
    "                                    for TFcomp in TF:\n",
    "                                        if TFcomp.name == 'oneReac '+reaction+'_r1'+' '+str(reactant):\n",
    "                                            connections.append([z,(TFcomp,0)])\n",
    "                                            connections.append([(TFcomp,1),oneR])\n",
    "                                else:\n",
    "                                    connections.append([z,oneR])\n",
    "                                    \n",
    "                        if z.name == reaction+'_E':\n",
    "                                connections.append((z,oneR))\n",
    "                                    \n",
    "                if (reaction+'_r2') == (xR):  # the Intermediate product to the Re:r2 (one-junc)                                        \n",
    "                    for z in BGzeroJunc:\n",
    "                        if z.name == reaction+'_ES':\n",
    "                                connections.append((z,oneR))\n",
    "                        \n",
    "                                    \n",
    "        for oneP in oneJunc_prod:\n",
    "            for xP in oneP.name.split(sep=\" \"):\n",
    "                if (reaction+'_r2') == (xP):\n",
    "\n",
    "                    for z in BGzeroJunc:\n",
    "                        for stoichiometry,product in reaction_products[reaction]:\n",
    "                            if z.name == product:\n",
    "                                if stoichiometry!=1:\n",
    "                                    for TFcomp in TF:\n",
    "                                        if TFcomp.name == 'oneProd '+reaction+'_r2'+' '+str(product):\n",
    "                                            connections.append([oneP,(TFcomp,0)])\n",
    "                                            connections.append([(TFcomp,1),z])\n",
    "                                else:\n",
    "                                    connections.append([oneP,z])\n",
    "                                    \n",
    "                        if z.name == reaction+'_E':\n",
    "                                connections.append((oneP,z))\n",
    "                                    \n",
    "                                    \n",
    "                if (reaction+'_r1') == (xP):  # the Intermediate product to the Re:r1 (one-junc)                                        \n",
    "                    for z in BGzeroJunc:\n",
    "                        if z.name == reaction+'_ES':\n",
    "                                connections.append((oneP,z))\n",
    "\n",
    "##  for reaction in irreversibleMM:\n",
    "\n",
    "                                                            \n",
    "                                \n",
    "                                \n",
    "# Adding the boundary conditions of Sf/Se the model for Synthesis/Dtype(Degradation,Decay )\n",
    "\n",
    "   \n",
    "#     for reaction in Dtype:\n",
    "#         for stoichiometry,reactant in reaction_reactants[reaction]:\n",
    "#             for  i in range(len(rowM)):\n",
    "#                 if rowM[i] == reactant:\n",
    "#                     K_reactants = thermodynamics[i]\n",
    "\n",
    "\n",
    "#         def funcDtype(X, r):\n",
    "\n",
    "#             products= np.ones((len(solutions['Time'])))          \n",
    "\n",
    "\n",
    "#             v = r*(K_reactants*X - (0.001*K_reactants)*products)\n",
    "\n",
    "#             return v\n",
    "\n",
    "#         bounds=[[0],[np.inf]]\n",
    "#         popt, pcov = curve_fit(funcDtype,solutions[[x for x in idAndAnnotations if idAndAnnotations[x]==reactant][0]],solutions[reaction], maxfev=5000, bounds=bounds)\n",
    "#         if popt[0]==1:\n",
    "#             popt, pcov = curve_fit(funcDtype,solutions[[x for x in idAndAnnotations if idAndAnnotations[x]==reactant][0]],solutions[reaction], maxfev=5000, method='lm')\n",
    "\n",
    "#         rateDtype = popt[0]\n",
    "\n",
    "\n",
    "#         BGreactions.append(bgt.new(\"Re\", name=reaction, library=\"BioChem\", value={'r':rateDtype ,'R':idealGassConstant, 'T':T}))\n",
    "\n",
    "#         for bg in [s for s in BGspecies if s.metamodel=='C' and s.name == reactant]:\n",
    "#             K_aux = 0.001 * bg._params['k']['value']\n",
    "#             BGspecies.append(bgt.new(\"Ce_S\", name=reaction+' C_aux', library=\"BioChem\", value={'k':K_aux ,'R':idealGassConstant, 'T':T}))\n",
    "\n",
    "#             for z in [junc for junc in BGzeroJunc if junc.name == reactant]:\n",
    "#                 if stoichiometry != 1:\n",
    "#                     pass  # TF currently not defined for Dtypes and Synthesis\n",
    "\n",
    "#                 else:\n",
    "#                     for bg in [r for r in BGreactions if r.name == reaction]:\n",
    "#                         connections.append([z,bg])\n",
    "#                         for s in [c for c in BGspecies if c.name == reaction+' C_aux']:\n",
    "#                             connections.append([bg,s]) \n",
    "\n",
    "                            \n",
    "    components = []\n",
    "    \n",
    "#     for reaction in Synthesis:\n",
    "#         components.append(bgt.new('Sf', name='Sf '+reaction))\n",
    "#         for stoichiometry,product in reaction_products[reaction]:\n",
    "#             for z in [junc for junc in BGzeroJunc if junc.name == product]:\n",
    "#                 for bg in [sf for sf in BGmodel.components if sf.name == 'Sf '+reaction]:\n",
    "#                     connections.append([bg,z])\n",
    "\n",
    "\n",
    "    components = [(tf,0) for tf in TF] + [(tf,1) for tf in TF] + BGspecies + BGzeroJunc + BGreactions + oneJunc_reac + oneJunc_prod\n",
    "    \n",
    "    return [components,connections]\n",
    "\n"
   ]
  },
  {
   "cell_type": "code",
   "execution_count": 130,
   "metadata": {},
   "outputs": [],
   "source": [
    "[components,connections]=BGconstruction(compartments,idAndAnnotations,reversibles,irreversibles,reversibleMA,reversibleMM,reaction_reactants,reaction_products,speciesId,unifiedSolution,reactionRates,thermodynamics,rowM,Synthesis,Dtype)"
   ]
  },
  {
   "cell_type": "code",
   "execution_count": 133,
   "metadata": {},
   "outputs": [
    {
     "name": "stdout",
     "output_type": "stream",
     "text": [
      "C: vGlxI_E 0.5734572591958539\n",
      "C: vGlxI_ES 0.0067334717994458095\n",
      "C: ['http://identifiers.org/go/GO:0005622', 'http://identifiers.org/chebi/CHEBI:16856'] 2.9602574169533145\n",
      "C: ['http://identifiers.org/go/GO:0005622', 'http://identifiers.org/chebi/CHEBI:131710'] 26.03163298345209\n",
      "C: ['http://identifiers.org/go/GO:0005622', 'http://identifiers.org/chebi/CHEBI:15694'] 0.007441665833185781\n",
      "C: ['http://identifiers.org/go/GO:0005622', 'http://identifiers.org/chebi/CHEBI:17158'] 2.960257416953305\n",
      "R: vneHTA 0.03879894904197863\n",
      "R: vGlxI_r1 1.2650668776735976\n",
      "R: vGlxI_r2 8020.010108426601\n"
     ]
    }
   ],
   "source": [
    "for i in range(len(components)):\n",
    "    if type(components[i]) != tuple and components[i].metamodel == 'C':\n",
    "        print(components[i],components[i]._params['k']['value'])\n",
    "    if type(components[i]) != tuple and components[i].metamodel == 'R':\n",
    "        print(components[i],components[i]._params['r']['value'])\n",
    "    if type(components[i]) == tuple:\n",
    "        print(components[i][0],components[i][0]._params)"
   ]
  },
  {
   "cell_type": "code",
   "execution_count": 134,
   "metadata": {},
   "outputs": [],
   "source": [
    "listOfComponents={}; listOfConnections={};  idAndAnnotationsAll={}; solutionsAll={};\n",
    "\n",
    "listOfComponents[0] = components\n",
    "# listOfComponents[1] = components2\n",
    "\n",
    "listOfConnections[0] = connections\n",
    "# listOfConnections[1] = connections2\n",
    "\n",
    "idAndAnnotationsAll[0] = idAndAnnotations\n",
    "# idAndAnnotationsAll[1] = idAndAnnotations2\n",
    "\n",
    "solutionsAll[0] = unifiedSolution\n",
    "# solutionsAll[1] = unifiedSolution2"
   ]
  },
  {
   "cell_type": "code",
   "execution_count": 135,
   "metadata": {},
   "outputs": [],
   "source": [
    "BGmodel=bgt.new(name='BGmodel')\n",
    "\n",
    "for model in listOfComponents:\n",
    "    for comp in listOfComponents[model]:\n",
    "        if type(comp)!=tuple:\n",
    "            bgt.add(BGmodel,comp)\n",
    "        else:\n",
    "            if comp[0] not in BGmodel.components:\n",
    "                bgt.add(BGmodel,comp[0])\n",
    "\n",
    "for model in listOfConnections:\n",
    "    for tail,head in listOfConnections[model]:\n",
    "        bgt.connect(tail,head)"
   ]
  },
  {
   "cell_type": "code",
   "execution_count": 136,
   "metadata": {},
   "outputs": [
    {
     "data": {
      "text/plain": [
       "{'x_0': (C: vGlxI_E, 'q_0'),\n",
       " 'x_1': (C: vGlxI_ES, 'q_0'),\n",
       " 'x_2': (C: ['http://identifiers.org/go/GO:0005622', 'http://identifiers.org/chebi/CHEBI:16856'],\n",
       "  'q_0'),\n",
       " 'x_3': (C: ['http://identifiers.org/go/GO:0005622', 'http://identifiers.org/chebi/CHEBI:131710'],\n",
       "  'q_0'),\n",
       " 'x_4': (C: ['http://identifiers.org/go/GO:0005622', 'http://identifiers.org/chebi/CHEBI:15694'],\n",
       "  'q_0'),\n",
       " 'x_5': (C: ['http://identifiers.org/go/GO:0005622', 'http://identifiers.org/chebi/CHEBI:17158'],\n",
       "  'q_0')}"
      ]
     },
     "execution_count": 136,
     "metadata": {},
     "output_type": "execute_result"
    }
   ],
   "source": [
    "BGmodel.state_vars"
   ]
  },
  {
   "cell_type": "code",
   "execution_count": 140,
   "metadata": {},
   "outputs": [],
   "source": [
    "x_0 = {}\n",
    "\n",
    "for stateVar in BGmodel.state_vars:                   \n",
    "    for key in idAndAnnotationsAll:\n",
    "        for ids in idAndAnnotationsAll[key]:\n",
    "            \n",
    "#             if str(BGmodel.state_vars[stateVar][0].name) in preferredInitials:\n",
    "#                 x_0[stateVar] =  preferredInitials[str(BGmodel.state_vars[stateVar][0].name)]\n",
    "            \n",
    "#             else:\n",
    "            if str(BGmodel.state_vars[stateVar][0].name) == str(idAndAnnotationsAll[key][ids]):\n",
    "                x_0[stateVar] =  solutionsAll[key][str(ids)][0]\n",
    "            elif str(BGmodel.state_vars[stateVar][0].name) == str(ids):\n",
    "                x_0[stateVar] =  solutionsAll[key][str(ids)][0]\n",
    "    for reaction in reversibleMM:\n",
    "        if str(BGmodel.state_vars[stateVar][0].name) == str(reaction+'_E'):\n",
    "            for r in range(len(rowM)):\n",
    "                if rowM[r] == reaction+'_E0':\n",
    "                    x_0[stateVar] =  thermodynamics[r]/2\n",
    "            \n",
    "        if str(BGmodel.state_vars[stateVar][0].name) == str(reaction+'_ES'):\n",
    "            for r in range(len(rowM)):\n",
    "                if rowM[r] == reaction+'_E0':\n",
    "                    x_0[stateVar] =  thermodynamics[r]/2\n",
    "\n",
    "\n",
    "# for stateVar in BGmodel.state_vars:  \n",
    "#     if stateVar not in x_0:\n",
    "#         x_0[stateVar] =  1"
   ]
  },
  {
   "cell_type": "code",
   "execution_count": 141,
   "metadata": {},
   "outputs": [
    {
     "data": {
      "text/plain": [
       "{'x_0': 0.0019306791414913944,\n",
       " 'x_1': 0.0019306791414913944,\n",
       " 'x_2': 8.0,\n",
       " 'x_3': 0.0,\n",
       " 'x_4': 0.0,\n",
       " 'x_5': 0.01}"
      ]
     },
     "execution_count": 141,
     "metadata": {},
     "output_type": "execute_result"
    }
   ],
   "source": [
    "x_0"
   ]
  },
  {
   "cell_type": "code",
   "execution_count": 142,
   "metadata": {},
   "outputs": [],
   "source": [
    "t_span = [0,100000]\n",
    "t, x = bgt.simulate(BGmodel, timespan=t_span, control_vars={}, x0=x_0, dt=100)"
   ]
  },
  {
   "cell_type": "code",
   "execution_count": 143,
   "metadata": {},
   "outputs": [
    {
     "data": {
      "image/png": "[encoded data removed]",
      "text/plain": [
       "<Figure size 960x720 with 1 Axes>"
      ]
     },
     "metadata": {
      "needs_background": "light"
     },
     "output_type": "display_data"
    }
   ],
   "source": [
    "bgt.draw(BGmodel)"
   ]
  },
  {
   "cell_type": "code",
   "execution_count": 156,
   "metadata": {
    "scrolled": false
   },
   "outputs": [
    {
     "data": {
      "image/jpeg": "[encoded data removed]",
      "text/plain": [
       "<Figure size 648x432 with 1 Axes>"
      ]
     },
     "metadata": {
      "needs_background": "light"
     },
     "output_type": "display_data"
    },
    {
     "data": {
      "image/jpeg": "[encoded data removed]",
      "text/plain": [
       "<Figure size 648x432 with 1 Axes>"
      ]
     },
     "metadata": {
      "needs_background": "light"
     },
     "output_type": "display_data"
    },
    {
     "data": {
      "image/jpeg": "[encoded data removed]",
      "text/plain": [
       "<Figure size 648x432 with 1 Axes>"
      ]
     },
     "metadata": {
      "needs_background": "light"
     },
     "output_type": "display_data"
    },
    {
     "data": {
      "image/jpeg": "[encoded data removed]",
      "text/plain": [
       "<Figure size 648x432 with 1 Axes>"
      ]
     },
     "metadata": {
      "needs_background": "light"
     },
     "output_type": "display_data"
    }
   ],
   "source": [
    "%config InlineBackend.figure_format = 'jpg'\n",
    "rcParams['figure.figsize'] = 9, 6\n",
    "plt.rcParams['axes.facecolor'] = 'white'\n",
    "plt.rc('axes',edgecolor='grey')\n",
    "\n",
    "font = font_manager.FontProperties(family='Times New Roman',\n",
    "                                   weight='bold',\n",
    "                                   style='normal', size=11)\n",
    "plt.close('all')\n",
    "for stateVar,i in zip(BGmodel.state_vars,range(len(BGmodel.state_vars))): \n",
    "    for key in idAndAnnotationsAll:\n",
    "        for ids in idAndAnnotationsAll[key]:\n",
    "            if str(BGmodel.state_vars[stateVar][0].name) == str(idAndAnnotationsAll[key][ids]):\n",
    "\n",
    "                plt.figure()\n",
    "                plt.title(ids)\n",
    "                plt.plot(solutionsAll[key]['Time'],solutionsAll[key][ids],label='SBML')\n",
    "                plt.plot(t,x[:,i],'k--',label='BG')\n",
    "                plt.legend(loc='best')\n",
    "                plt.ylabel('Concentration(uM)')\n",
    "                plt.xlabel('Time(s)')\n",
    "                break\n",
    "\n",
    "\n",
    "            "
   ]
  },
  {
   "cell_type": "code",
   "execution_count": null,
   "metadata": {},
   "outputs": [],
   "source": []
  }
 ],
 "metadata": {
  "kernelspec": {
   "display_name": "Python 3",
   "language": "python",
   "name": "python3"
  },
  "language_info": {
   "codemirror_mode": {
    "name": "ipython",
    "version": 3
   },
   "file_extension": ".py",
   "mimetype": "text/x-python",
   "name": "python",
   "nbconvert_exporter": "python",
   "pygments_lexer": "ipython3",
   "version": "3.7.3"
  }
 },
 "nbformat": 4,
 "nbformat_minor": 2
}
